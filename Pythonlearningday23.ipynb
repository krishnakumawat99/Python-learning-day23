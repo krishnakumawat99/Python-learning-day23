{
  "nbformat": 4,
  "nbformat_minor": 0,
  "metadata": {
    "colab": {
      "provenance": []
    },
    "kernelspec": {
      "name": "python3",
      "display_name": "Python 3"
    },
    "language_info": {
      "name": "python"
    }
  },
  "cells": [
    {
      "cell_type": "code",
      "execution_count": null,
      "metadata": {
        "id": "-6LToECzxrzf"
      },
      "outputs": [],
      "source": [
        "class Addno:\n",
        "  def __init__(self,x,y):\n",
        "    self.x=x\n",
        "    self.y=y\n",
        "  def __add__(self,func):\n",
        "    print(\"calling the dunder function\")\n",
        "\n",
        "a1=Addno(10,20)\n",
        "a2=Addno(32,96)"
      ]
    },
    {
      "cell_type": "code",
      "source": [
        "a1+a2\n",
        "# dunder function => __add__ , * __mul__, __div__\n",
        "# a1.__add__"
      ],
      "metadata": {
        "colab": {
          "base_uri": "https://localhost:8080/"
        },
        "id": "VaMBM2TYy-9u",
        "outputId": "a6346de7-e362-470c-93f4-c77916118d43"
      },
      "execution_count": null,
      "outputs": [
        {
          "output_type": "stream",
          "name": "stdout",
          "text": [
            "calling the dunder function\n"
          ]
        }
      ]
    },
    {
      "cell_type": "code",
      "source": [
        "class Addno:\n",
        "  def __init__(self,x,y):\n",
        "    self.x=x\n",
        "    self.y=y\n",
        "  def __add__(self,z):\n",
        "    print(\"calling the dunder function\",z)\n",
        "\n",
        "a1=Addno(10,20)\n",
        "a2=Addno(32,96)"
      ],
      "metadata": {
        "id": "3UHO09HYzBBt"
      },
      "execution_count": null,
      "outputs": []
    },
    {
      "cell_type": "code",
      "source": [
        "a1+a2\n",
        "print(\"a2=>\",a2)"
      ],
      "metadata": {
        "colab": {
          "base_uri": "https://localhost:8080/"
        },
        "id": "kd1x1uDM0d7J",
        "outputId": "85778f4f-d73e-480c-8486-a7ac278c607f"
      },
      "execution_count": null,
      "outputs": [
        {
          "output_type": "stream",
          "name": "stdout",
          "text": [
            "calling the dunder function <__main__.Addno object at 0x7c3c61521010>\n",
            "a2=> <__main__.Addno object at 0x7c3c61521010>\n"
          ]
        }
      ]
    },
    {
      "cell_type": "code",
      "source": [
        "class Addno:\n",
        "  def __init__(self,x,y):\n",
        "    self.x=x\n",
        "    self.y=y\n",
        "  def __add__(self,z):\n",
        "    return (self.x+z.x , self.y+z.y)\n",
        "\n",
        "a1=Addno(10,20)\n",
        "a2=Addno(32,96)"
      ],
      "metadata": {
        "id": "xsVqt2La0f08"
      },
      "execution_count": null,
      "outputs": []
    },
    {
      "cell_type": "code",
      "source": [
        "a1+a2"
      ],
      "metadata": {
        "colab": {
          "base_uri": "https://localhost:8080/"
        },
        "id": "394GhXoY1sgg",
        "outputId": "1098c9c9-54f0-4f31-97b9-8f17cf9c95d7"
      },
      "execution_count": null,
      "outputs": [
        {
          "output_type": "execute_result",
          "data": {
            "text/plain": [
              "(42, 116)"
            ]
          },
          "metadata": {},
          "execution_count": 10
        }
      ]
    },
    {
      "cell_type": "code",
      "source": [
        "class Addno:\n",
        "  def __init__(self,num1):\n",
        "    self.num1=num1\n",
        "\n",
        "  def __gt__(self,y):\n",
        "    if(self.num1==y.num1):\n",
        "      return False\n",
        "    else:\n",
        "      return True\n",
        "\n",
        "a1=Addno(10)\n",
        "a2=Addno(32)"
      ],
      "metadata": {
        "id": "34YhzHpl1tm9"
      },
      "execution_count": null,
      "outputs": []
    },
    {
      "cell_type": "code",
      "source": [
        "a1 > a2    #a1.__gt__(a2)\n",
        "# __gt__"
      ],
      "metadata": {
        "colab": {
          "base_uri": "https://localhost:8080/"
        },
        "id": "cvEutVu82h-3",
        "outputId": "fc6c8cb9-5540-4727-d4c3-429fa0e55aa0"
      },
      "execution_count": null,
      "outputs": [
        {
          "output_type": "execute_result",
          "data": {
            "text/plain": [
              "True"
            ]
          },
          "metadata": {},
          "execution_count": 22
        }
      ]
    },
    {
      "cell_type": "code",
      "source": [
        "# encapsulation\n",
        "# capsule =>\n",
        "# method and attribute  bind\n",
        "# function and variable inside the class\n",
        "\n",
        "# to provide he accessibility => access modifier\n",
        "# private, public, protected, default ( package protected )"
      ],
      "metadata": {
        "id": "CKQGIuvQ2n50"
      },
      "execution_count": null,
      "outputs": []
    },
    {
      "cell_type": "code",
      "source": [
        "class family:\n",
        "  _bank=5000                # variable should act protected\n",
        "  home_property=9999999;"
      ],
      "metadata": {
        "id": "MuHZshny51kz"
      },
      "execution_count": null,
      "outputs": []
    },
    {
      "cell_type": "code",
      "source": [
        "class child(family):\n",
        "  salary=100\n",
        "\n",
        "c1=child()\n",
        "c1._bank"
      ],
      "metadata": {
        "colab": {
          "base_uri": "https://localhost:8080/"
        },
        "id": "2Ks2X5Qx6BmN",
        "outputId": "13c1a889-7a49-4b39-96fe-79181c092441"
      },
      "execution_count": null,
      "outputs": [
        {
          "output_type": "execute_result",
          "data": {
            "text/plain": [
              "5000"
            ]
          },
          "metadata": {},
          "execution_count": 28
        }
      ]
    },
    {
      "cell_type": "code",
      "source": [
        "class family:\n",
        "  _bank=5000              # variable should act protected\n",
        "  __home_property=9999999;"
      ],
      "metadata": {
        "id": "qdOGgJAx6Zn7"
      },
      "execution_count": null,
      "outputs": []
    },
    {
      "cell_type": "code",
      "source": [
        "f1=family()\n",
        "f1._family__home_property # __var => _class__var"
      ],
      "metadata": {
        "colab": {
          "base_uri": "https://localhost:8080/"
        },
        "id": "noyFGLeS70hy",
        "outputId": "714eddb0-42dc-45b6-83c6-8b5a784c3a31"
      },
      "execution_count": null,
      "outputs": [
        {
          "output_type": "execute_result",
          "data": {
            "text/plain": [
              "9999999"
            ]
          },
          "metadata": {},
          "execution_count": 32
        }
      ]
    },
    {
      "cell_type": "code",
      "source": [],
      "metadata": {
        "id": "fZmJ8Uah75Ls"
      },
      "execution_count": null,
      "outputs": []
    }
  ]
}